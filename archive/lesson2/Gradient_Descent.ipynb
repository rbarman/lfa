{
  "nbformat": 4,
  "nbformat_minor": 0,
  "metadata": {
    "colab": {
      "name": "Gradient Descent",
      "version": "0.3.2",
      "provenance": [],
      "collapsed_sections": [],
      "include_colab_link": true
    },
    "kernelspec": {
      "name": "python3",
      "display_name": "Python 3"
    }
  },
  "cells": [
    {
      "cell_type": "markdown",
      "metadata": {
        "id": "view-in-github",
        "colab_type": "text"
      },
      "source": [
        "<a href=\"https://colab.research.google.com/github/rbarman/lfa/blob/master/lesson2/Gradient_Descent.ipynb\" target=\"_parent\"><img src=\"https://colab.research.google.com/assets/colab-badge.svg\" alt=\"Open In Colab\"/></a>"
      ]
    },
    {
      "metadata": {
        "id": "sDJM_ZBe54p-",
        "colab_type": "text"
      },
      "cell_type": "markdown",
      "source": [
        "Apply gradient descent to find the relationship between salary and years of experience"
      ]
    },
    {
      "metadata": {
        "id": "MBZgfgcEecPZ",
        "colab_type": "code",
        "colab": {}
      },
      "cell_type": "code",
      "source": [
        "import pandas as pd\n",
        "import json\n",
        "from fastai.basics import *"
      ],
      "execution_count": 0,
      "outputs": []
    },
    {
      "metadata": {
        "id": "D-Mhjrtqe9K7",
        "colab_type": "text"
      },
      "cell_type": "markdown",
      "source": [
        "**Get data**"
      ]
    },
    {
      "metadata": {
        "id": "wZ5EWhsle_9a",
        "colab_type": "code",
        "colab": {}
      },
      "cell_type": "code",
      "source": [
        "! pip install -q kaggle\n",
        "! mkdir ~/.kaggle\n",
        "with open('kaggle.json', 'w') as outfile:\n",
        "    json.dump({\"username\":\"rbarman\",\"key\":\"cf5429973fa07a49d7664b2c90917de3\"}, outfile)\n",
        "! cp kaggle.json ~/.kaggle/\n",
        "! chmod 600 ~/.kaggle/kaggle.json"
      ],
      "execution_count": 0,
      "outputs": []
    },
    {
      "metadata": {
        "id": "r0XNQLQsfKCH",
        "colab_type": "code",
        "outputId": "cdf1d323-d0ec-40e8-f527-609b76f48462",
        "colab": {
          "base_uri": "https://localhost:8080/",
          "height": 86
        }
      },
      "cell_type": "code",
      "source": [
        "!mkdir data/\n",
        "!kaggle datasets download rsadiq/salary --unzip -p data/\n",
        "!ls data/"
      ],
      "execution_count": 0,
      "outputs": [
        {
          "output_type": "stream",
          "text": [
            "Downloading salary.zip to data\n",
            "\r  0% 0.00/358 [00:00<?, ?B/s]\n",
            "\r100% 358/358 [00:00<00:00, 312kB/s]\n",
            "Salary.csv\n"
          ],
          "name": "stdout"
        }
      ]
    },
    {
      "metadata": {
        "id": "Tctx_5-9fTUB",
        "colab_type": "code",
        "outputId": "8b20b79b-385d-4dea-ed22-76c6eeda0bca",
        "colab": {
          "base_uri": "https://localhost:8080/",
          "height": 206
        }
      },
      "cell_type": "code",
      "source": [
        "df = pd.read_csv('data/Salary.csv')\n",
        "df.head()"
      ],
      "execution_count": 61,
      "outputs": [
        {
          "output_type": "execute_result",
          "data": {
            "text/html": [
              "<div>\n",
              "<style scoped>\n",
              "    .dataframe tbody tr th:only-of-type {\n",
              "        vertical-align: middle;\n",
              "    }\n",
              "\n",
              "    .dataframe tbody tr th {\n",
              "        vertical-align: top;\n",
              "    }\n",
              "\n",
              "    .dataframe thead th {\n",
              "        text-align: right;\n",
              "    }\n",
              "</style>\n",
              "<table border=\"1\" class=\"dataframe\">\n",
              "  <thead>\n",
              "    <tr style=\"text-align: right;\">\n",
              "      <th></th>\n",
              "      <th>YearsExperience</th>\n",
              "      <th>Salary</th>\n",
              "    </tr>\n",
              "  </thead>\n",
              "  <tbody>\n",
              "    <tr>\n",
              "      <th>0</th>\n",
              "      <td>1.1</td>\n",
              "      <td>39343</td>\n",
              "    </tr>\n",
              "    <tr>\n",
              "      <th>1</th>\n",
              "      <td>1.3</td>\n",
              "      <td>46205</td>\n",
              "    </tr>\n",
              "    <tr>\n",
              "      <th>2</th>\n",
              "      <td>1.5</td>\n",
              "      <td>37731</td>\n",
              "    </tr>\n",
              "    <tr>\n",
              "      <th>3</th>\n",
              "      <td>2.0</td>\n",
              "      <td>43525</td>\n",
              "    </tr>\n",
              "    <tr>\n",
              "      <th>4</th>\n",
              "      <td>2.2</td>\n",
              "      <td>39891</td>\n",
              "    </tr>\n",
              "  </tbody>\n",
              "</table>\n",
              "</div>"
            ],
            "text/plain": [
              "   YearsExperience  Salary\n",
              "0              1.1   39343\n",
              "1              1.3   46205\n",
              "2              1.5   37731\n",
              "3              2.0   43525\n",
              "4              2.2   39891"
            ]
          },
          "metadata": {
            "tags": []
          },
          "execution_count": 61
        }
      ]
    },
    {
      "metadata": {
        "id": "pnhOcMIbgWCg",
        "colab_type": "code",
        "colab": {
          "base_uri": "https://localhost:8080/",
          "height": 361
        },
        "outputId": "1d90a9e0-8ea4-4b59-f5e0-08e6f0ceb049"
      },
      "cell_type": "code",
      "source": [
        "df.plot(x='YearsExperience',y='Salary');"
      ],
      "execution_count": 62,
      "outputs": [
        {
          "output_type": "display_data",
          "data": {
            "image/png": "[encoded data removed]",
            "text/plain": [
              "<Figure size 576x396 with 1 Axes>"
            ]
          },
          "metadata": {
            "tags": []
          }
        }
      ]
    },
    {
      "metadata": {
        "id": "lUmVgdFGggSH",
        "colab_type": "text"
      },
      "cell_type": "markdown",
      "source": [
        "There seems to be a general linear trend. The goal is to use gradient descent to find the line that best fits the data"
      ]
    },
    {
      "metadata": {
        "id": "8SSDnEPYgQ14",
        "colab_type": "text"
      },
      "cell_type": "markdown",
      "source": [
        "**Set up tensors**"
      ]
    },
    {
      "metadata": {
        "id": "xG7i25F9gBKi",
        "colab_type": "code",
        "colab": {
          "base_uri": "https://localhost:8080/",
          "height": 104
        },
        "outputId": "148cef4c-38b2-4045-c1ca-a63e29c2bb77"
      },
      "cell_type": "code",
      "source": [
        "x = torch.ones(len(df),2)\n",
        "x[:,0] = torch.tensor(df['YearsExperience'])\n",
        "x[:5]"
      ],
      "execution_count": 143,
      "outputs": [
        {
          "output_type": "execute_result",
          "data": {
            "text/plain": [
              "tensor([[1.1000, 1.0000],\n",
              "        [1.3000, 1.0000],\n",
              "        [1.5000, 1.0000],\n",
              "        [2.0000, 1.0000],\n",
              "        [2.2000, 1.0000]])"
            ]
          },
          "metadata": {
            "tags": []
          },
          "execution_count": 143
        }
      ]
    },
    {
      "metadata": {
        "id": "XveilGgGgqGM",
        "colab_type": "code",
        "colab": {
          "base_uri": "https://localhost:8080/",
          "height": 34
        },
        "outputId": "879b778d-3741-42eb-b391-2400b0971d09"
      },
      "cell_type": "code",
      "source": [
        "y = torch.tensor(df['Salary'].values,dtype=torch.float32)\n",
        "y[:5]"
      ],
      "execution_count": 144,
      "outputs": [
        {
          "output_type": "execute_result",
          "data": {
            "text/plain": [
              "tensor([39343., 46205., 37731., 43525., 39891.])"
            ]
          },
          "metadata": {
            "tags": []
          },
          "execution_count": 144
        }
      ]
    },
    {
      "metadata": {
        "id": "lKjvYQjJiIq6",
        "colab_type": "text"
      },
      "cell_type": "markdown",
      "source": [
        "**Try random parameter values **"
      ]
    },
    {
      "metadata": {
        "id": "CKc-qdLeiAYT",
        "colab_type": "code",
        "colab": {}
      },
      "cell_type": "code",
      "source": [
        "def mse(y_hat, y): return ((y_hat-y)**2).mean()"
      ],
      "execution_count": 0,
      "outputs": []
    },
    {
      "metadata": {
        "id": "1tmyVjsjiNrZ",
        "colab_type": "code",
        "colab": {
          "base_uri": "https://localhost:8080/",
          "height": 451
        },
        "outputId": "253c1e2d-4951-4712-9bb6-a994cdb11082"
      },
      "cell_type": "code",
      "source": [
        "a = tensor(1.,-1)\n",
        "y_hat = x@a\n",
        "print(f'y_hat:{y_hat}')\n",
        "print(f'error: {mse(y_hat,y)}')\n",
        "plt.scatter(x[:,0],y)\n",
        "plt.scatter(x[:,0],y_hat);"
      ],
      "execution_count": 168,
      "outputs": [
        {
          "output_type": "stream",
          "text": [
            "y_hat:tensor([ 0.1000,  0.3000,  0.5000,  1.0000,  1.2000,  1.9000,  2.0000,  2.2000,\n",
            "         2.2000,  2.7000,  2.9000,  3.0000,  3.0000,  3.1000,  3.5000,  3.9000,\n",
            "         4.1000,  4.3000,  4.9000,  5.0000,  5.8000,  6.1000,  6.9000,  7.2000,\n",
            "         7.7000,  8.0000,  8.5000,  8.6000,  9.3000,  9.5000, 10.2000, 10.5000,\n",
            "        11.3000, 11.9000, 12.5000])\n",
            "error: 8050632192.0\n"
          ],
          "name": "stdout"
        },
        {
          "output_type": "display_data",
          "data": {
            "image/png": "[encoded data removed]",
            "text/plain": [
              "<Figure size 576x396 with 1 Axes>"
            ]
          },
          "metadata": {
            "tags": []
          }
        }
      ]
    },
    {
      "metadata": {
        "id": "FifelXqIlurZ",
        "colab_type": "text"
      },
      "cell_type": "markdown",
      "source": [
        "This random guess is very bad - the error is very high and we can see that the y_hat values are too low. We will need to do gradient descent to find the best parameter values"
      ]
    },
    {
      "metadata": {
        "id": "RN0goJdQl_8O",
        "colab_type": "text"
      },
      "cell_type": "markdown",
      "source": [
        "**Gradient Descent**"
      ]
    },
    {
      "metadata": {
        "id": "jVAO46KklGFO",
        "colab_type": "code",
        "colab": {}
      },
      "cell_type": "code",
      "source": [
        "def grad_descent(x,y,lr,epochs):\n",
        "  '''Find best parameters that minimize mse'''\n",
        "  \n",
        "  a = nn.Parameter(tensor(1.,-1));\n",
        "\n",
        "  for epoch in range(epochs):\n",
        "    y_hat = x@a\n",
        "    loss = mse(y, y_hat)\n",
        "    if epoch % 100 == 0: print(loss)\n",
        "    loss.backward()\n",
        "    with torch.no_grad():\n",
        "        a.sub_(lr * a.grad)\n",
        "        a.grad.zero_()\n",
        "  return a"
      ],
      "execution_count": 0,
      "outputs": []
    },
    {
      "metadata": {
        "id": "Em2gT4wBnKY-",
        "colab_type": "code",
        "colab": {
          "base_uri": "https://localhost:8080/",
          "height": 191
        },
        "outputId": "2bb6c6e2-1af8-4912-fb5d-4542a22c9641"
      },
      "cell_type": "code",
      "source": [
        "params = grad_descent(x,y,1e-2,1000)"
      ],
      "execution_count": 208,
      "outputs": [
        {
          "output_type": "stream",
          "text": [
            "tensor(8.0506e+09, grad_fn=<MeanBackward1>)\n",
            "tensor(1.0487e+08, grad_fn=<MeanBackward1>)\n",
            "tensor(61828804., grad_fn=<MeanBackward1>)\n",
            "tensor(45304856., grad_fn=<MeanBackward1>)\n",
            "tensor(38960620., grad_fn=<MeanBackward1>)\n",
            "tensor(36524820., grad_fn=<MeanBackward1>)\n",
            "tensor(35589608., grad_fn=<MeanBackward1>)\n",
            "tensor(35230528., grad_fn=<MeanBackward1>)\n",
            "tensor(35092672., grad_fn=<MeanBackward1>)\n",
            "tensor(35039748., grad_fn=<MeanBackward1>)\n"
          ],
          "name": "stdout"
        }
      ]
    },
    {
      "metadata": {
        "id": "gkV7DORCyhJQ",
        "colab_type": "text"
      },
      "cell_type": "markdown",
      "source": [
        "Loss is decreasing, but still very high"
      ]
    },
    {
      "metadata": {
        "id": "b2UKQi1WnVmO",
        "colab_type": "code",
        "colab": {
          "base_uri": "https://localhost:8080/",
          "height": 347
        },
        "outputId": "c982ced8-c1b0-49bf-875a-ae824b1be33a"
      },
      "cell_type": "code",
      "source": [
        "_, ax = plt.subplots()\n",
        "ax.scatter(x[:,0],y, c='red', label = 'y')\n",
        "ax.scatter(x[:,0],x@params, c='blue', label = 'y_hat')\n",
        "\n",
        "plt.legend()\n",
        "plt.show()"
      ],
      "execution_count": 209,
      "outputs": [
        {
          "output_type": "display_data",
          "data": {
            "image/png": "[encoded data removed]",
            "text/plain": [
              "<Figure size 576x396 with 1 Axes>"
            ]
          },
          "metadata": {
            "tags": []
          }
        }
      ]
    },
    {
      "metadata": {
        "id": "7AVukCga1ObO",
        "colab_type": "text"
      },
      "cell_type": "markdown",
      "source": [
        "The predicted values seem to match the general linear trend of the data. The model has a high magnitude of loss because the data has curves while the model is a strict linear model"
      ]
    },
    {
      "metadata": {
        "id": "5dFe-0l816G3",
        "colab_type": "text"
      },
      "cell_type": "markdown",
      "source": [
        "**Try different learning rates**"
      ]
    },
    {
      "metadata": {
        "id": "ofrrzzy8pqqn",
        "colab_type": "code",
        "colab": {
          "base_uri": "https://localhost:8080/",
          "height": 191
        },
        "outputId": "0d5d5824-3432-47f9-912d-10108cb49f1f"
      },
      "cell_type": "code",
      "source": [
        "params = grad_descent(x,y,1e-1,1000)"
      ],
      "execution_count": 210,
      "outputs": [
        {
          "output_type": "stream",
          "text": [
            "tensor(8.0506e+09, grad_fn=<MeanBackward1>)\n",
            "tensor(nan, grad_fn=<MeanBackward1>)\n",
            "tensor(nan, grad_fn=<MeanBackward1>)\n",
            "tensor(nan, grad_fn=<MeanBackward1>)\n",
            "tensor(nan, grad_fn=<MeanBackward1>)\n",
            "tensor(nan, grad_fn=<MeanBackward1>)\n",
            "tensor(nan, grad_fn=<MeanBackward1>)\n",
            "tensor(nan, grad_fn=<MeanBackward1>)\n",
            "tensor(nan, grad_fn=<MeanBackward1>)\n",
            "tensor(nan, grad_fn=<MeanBackward1>)\n"
          ],
          "name": "stdout"
        }
      ]
    },
    {
      "metadata": {
        "id": "RDKNec202Agk",
        "colab_type": "text"
      },
      "cell_type": "markdown",
      "source": [
        "1e-1 is too big of a learning rate. It is jumping around too much and the loss ends up being infinity"
      ]
    },
    {
      "metadata": {
        "id": "45bYD_O-1_CI",
        "colab_type": "code",
        "colab": {
          "base_uri": "https://localhost:8080/",
          "height": 191
        },
        "outputId": "616c0ec6-4cdb-428a-a63b-d56f8d0e7e48"
      },
      "cell_type": "code",
      "source": [
        "params = grad_descent(x,y,1e-3,1000)"
      ],
      "execution_count": 211,
      "outputs": [
        {
          "output_type": "stream",
          "text": [
            "tensor(8.0506e+09, grad_fn=<MeanBackward1>)\n",
            "tensor(2.0039e+08, grad_fn=<MeanBackward1>)\n",
            "tensor(1.8532e+08, grad_fn=<MeanBackward1>)\n",
            "tensor(1.7163e+08, grad_fn=<MeanBackward1>)\n",
            "tensor(1.5918e+08, grad_fn=<MeanBackward1>)\n",
            "tensor(1.4787e+08, grad_fn=<MeanBackward1>)\n",
            "tensor(1.3759e+08, grad_fn=<MeanBackward1>)\n",
            "tensor(1.2824e+08, grad_fn=<MeanBackward1>)\n",
            "tensor(1.1975e+08, grad_fn=<MeanBackward1>)\n",
            "tensor(1.1203e+08, grad_fn=<MeanBackward1>)\n"
          ],
          "name": "stdout"
        }
      ]
    },
    {
      "metadata": {
        "id": "RQuwPxjN2TYW",
        "colab_type": "text"
      },
      "cell_type": "markdown",
      "source": [
        "1e-3 is an ok learning rate. The loss *is* decreasing but too slowly. Would need to train with more epochs to get a lower loss"
      ]
    },
    {
      "metadata": {
        "id": "c9auuLXT5w86",
        "colab_type": "text"
      },
      "cell_type": "markdown",
      "source": [
        "--"
      ]
    },
    {
      "metadata": {
        "id": "ykHr_Nep5hFF",
        "colab_type": "text"
      },
      "cell_type": "markdown",
      "source": [
        "TODO: find a larger dataset to apply updates over minibatches. This would be stochastic gradient descent"
      ]
    }
  ]
}